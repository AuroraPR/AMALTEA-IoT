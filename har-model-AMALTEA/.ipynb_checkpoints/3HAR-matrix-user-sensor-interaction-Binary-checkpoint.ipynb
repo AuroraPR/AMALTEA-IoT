{
 "cells": [
  {
   "cell_type": "code",
   "execution_count": 1,
   "id": "speaking-philip",
   "metadata": {},
   "outputs": [],
   "source": [
    "\n",
    "#ini_date = '04/01/23 12:00:00'\n",
    "#end_date = '06/01/23 13:00:00'\n",
    "#target_folder=\"./time-data/evaluation/\"\n",
    "\n",
    "#[9:50, 11/10/2023] Aurora: setup: 20/12/2022 a las 15:00 a. m. hasta el 23/12/2022 a las 15:00 a. m.\n",
    "#[9:50, 11/10/2023] Aurora: config: 04/01/2023 a las 12:00 a. m. hasta el 06/01/2023 a las 12:00 a. m.\n",
    "\n",
    "ini_date = '20/12/22 15:00:00'\n",
    "end_date = '23/12/22 15:00:00'\n",
    "target_folder=\"./time-data/setup/\"\n",
    "\n",
    "\n",
    "time_step=15\n",
    "\n",
    "sensors=[\"cubiertos\", \"fridge\", \"microwave\", \"ollas\"]\n",
    "interval_activation=[True,True,True,False]\n",
    "last_next_activation=[False,False,False,False]\n",
    "tags=[\"1\",\"2\"]\n",
    "\n",
    "colors={}\n",
    "colors[\"1\"]=\"red\"\n",
    "colors[\"2\"]=\"blue\"\n",
    "colors[\"3\"]=\"orange\"\n",
    "colors[\"4\"]=\"green\"\n",
    "colors[\"5\"]=\"pink\"\n",
    "colors[\"6\"]=\"brown\"\n",
    "\n"
   ]
  },
  {
   "cell_type": "code",
   "execution_count": 2,
   "id": "global-vietnamese",
   "metadata": {},
   "outputs": [
    {
     "name": "stdout",
     "output_type": "stream",
     "text": [
      "(157, 523)\n",
      "(209, 351)\n",
      "(2848, 6734)\n"
     ]
    }
   ],
   "source": [
    "def repaintXY(x,y):\n",
    "    return int(x*0.08965-196.41+150), int(-y*0.1078+1077)\n",
    "\n",
    "def repaintXXYY(x,y):\n",
    "    return int((x+196.41-150)/0.08965), int((y-1077)/(-0.1078))\n",
    "\n",
    "\n",
    "print(repaintXY(2280,5135))\n",
    "print(repaintXY(2860,6730))\n",
    "print(repaintXXYY(209,351))"
   ]
  },
  {
   "cell_type": "code",
   "execution_count": 3,
   "id": "explicit-retail",
   "metadata": {},
   "outputs": [
    {
     "name": "stdout",
     "output_type": "stream",
     "text": [
      "20/12/22 15:00:00 Init date is 1671544800 day: 19346\n",
      "23/12/22 15:00:00 End date is 1671804000 day: 19349\n",
      "17280\n"
     ]
    }
   ],
   "source": [
    "import numpy as np\n",
    "from pandas import read_csv    \n",
    "\n",
    "import time\n",
    "\n",
    "from datetime import datetime\n",
    "\n",
    "def day_time(ti):\n",
    "    return int((int)(ti/(60*60*24)))\n",
    "\n",
    "t0 = (int)(datetime.strptime(ini_date, '%d/%m/%y %H:%M:%S').timestamp())\n",
    "print (ini_date,\"Init date is\", t0, \"day:\",day_time(t0))\n",
    "\n",
    "tN = (int)(datetime.strptime(end_date, '%d/%m/%y %H:%M:%S').timestamp())\n",
    "print (end_date,\"End date is\", tN, \"day:\",day_time(tN))\n",
    "\n",
    "def relT(ti):\n",
    "    return (int)((ti-t0)/time_step)\n",
    "\n",
    "def absT(tt):\n",
    "    return (int)(tt*time_step+t0)\n",
    "\n",
    "nT=(int)(round((tN-t0-1)/time_step))\n",
    "print(nT)"
   ]
  },
  {
   "cell_type": "markdown",
   "id": "sweet-eclipse",
   "metadata": {},
   "source": []
  },
  {
   "cell_type": "code",
   "execution_count": 4,
   "id": "regular-channels",
   "metadata": {},
   "outputs": [
    {
     "name": "stdout",
     "output_type": "stream",
     "text": [
      "(17280,)\n",
      "(17280,)\n",
      "(17280,)\n",
      "(17280,)\n",
      "(4, 17280)\n"
     ]
    }
   ],
   "source": [
    "S=np.zeros((len(sensors), nT))\n",
    "for i,sensor in enumerate(sensors):\n",
    "    series=read_csv(target_folder+sensor+\".tsv\", sep=\"\\t\",parse_dates=True,header=None)\n",
    "    S[i]=  np.array(series.values[:,[1]]).flatten()  \n",
    "    print(S[i].shape)\n",
    "print(S.shape)"
   ]
  },
  {
   "cell_type": "code",
   "execution_count": 5,
   "id": "applicable-edgar",
   "metadata": {},
   "outputs": [],
   "source": [
    "def intervals(s):\n",
    "    ret=[]\n",
    "    lastV=0\n",
    "    lastI=-1\n",
    "    for t in range(0,len(s)):\n",
    "        if(lastV==1 and s[t]==0):\n",
    "            ret.append((lastI,t-1))\n",
    "        if(lastV==0 and s[t]==1):\n",
    "            lastI=t\n",
    "        lastV=s[t]\n",
    "    return ret\n",
    "\n",
    "           "
   ]
  },
  {
   "cell_type": "code",
   "execution_count": 6,
   "id": "intensive-addiction",
   "metadata": {},
   "outputs": [
    {
     "name": "stdout",
     "output_type": "stream",
     "text": [
      "[1. 0. 0. 0. 1. 0. 0. 0. 0. 0. 0. 0. 0. 0. 0. 0. 0. 0. 0. 0.]\n",
      "[1. 1. 1. 1. 1. 0. 0. 0. 0. 0. 0. 0. 0. 0. 0. 0. 0. 0. 0. 0.]\n",
      "[1.  1.  1.  1.  1.  1.  1.  1.  0.8 0.6 0.4 0.2 0.  0.  0.  0.  0.  0.\n",
      " 0.  0. ]\n",
      "[1. 1. 1. 1. 1. 0. 0. 0. 0. 0. 0. 0. 0. 0. 0. 0. 0. 0. 0. 0.]\n"
     ]
    }
   ],
   "source": [
    "ftw_f1=[1,1,1,1,0.8,0.6,0.4,0.2]\n",
    "def FTW_f(s,ftw_f):\n",
    "    s2=np.zeros(len(s))\n",
    "    for t in range(0,nT):\n",
    "        s2[t]=0\n",
    "        for incT in range(0, len(ftw_f)):\n",
    "            if(t+incT>=(len(s))):\n",
    "                continue\n",
    "            s2[t]=max(s2[t],s[t+incT] * ftw_f[incT])\n",
    "    return s2\n",
    "def FTW_p(s,ftw_f):\n",
    "    s2=np.zeros(len(s))\n",
    "    for t in range(0,nT):\n",
    "        s2[t]=0\n",
    "        for incT in range(0, len(ftw_f)):\n",
    "            if(t-incT<0):\n",
    "                continue\n",
    "            s2[t]=max(s2[t],s[t-incT] * ftw_f[incT])\n",
    "    return s2\n",
    "\n",
    "def FTW_sensor(s,ftw_f):\n",
    "    sp=FTW_p(s,ftw_f)\n",
    "    sf=FTW_f(s,ftw_f)\n",
    "    s2=np.zeros(len(s))\n",
    "    for t in range(0,nT):\n",
    "        s2[t]=min(sp[t],sf[t])\n",
    "    return s2\n",
    "\n",
    "ix=range(5110,5130)\n",
    "s1=S[0]\n",
    "print(s1[ix])\n",
    "s2=FTW_f(s1,ftw_f1)\n",
    "print(s2[ix])\n",
    "s2=FTW_p(s1,ftw_f1)\n",
    "print(s2[ix])\n",
    "\n",
    "s2=FTW_sensor(s1,ftw_f1)\n",
    "print(s2[ix])"
   ]
  },
  {
   "cell_type": "code",
   "execution_count": null,
   "id": "crazy-wisconsin",
   "metadata": {},
   "outputs": [],
   "source": []
  },
  {
   "cell_type": "code",
   "execution_count": 7,
   "id": "emerging-index",
   "metadata": {},
   "outputs": [
    {
     "data": {
      "image/png": "[encoded data removed]",
      "text/plain": [
       "<Figure size 640x480 with 4 Axes>"
      ]
     },
     "metadata": {},
     "output_type": "display_data"
    }
   ],
   "source": [
    "import pandas as pd\n",
    "\n",
    "\n",
    "def printSensorMatrix(Ss):\n",
    "    df = pd.DataFrame()\n",
    "    ts=[]\n",
    "    for t in range(t0,tN,time_step):\n",
    "        ts.append(datetime.fromtimestamp( t))\n",
    "\n",
    "    df['Time']=ts\n",
    "    for ix,sensor in enumerate(sensors):\n",
    "        df[sensor]=Ss[ix]\n",
    "    df.plot(x=\"Time\",y=sensors,subplots=True, legend=True, ylim=(0,1))    \n",
    "    \n",
    "printSensorMatrix(S)    "
   ]
  },
  {
   "cell_type": "code",
   "execution_count": 8,
   "id": "proved-lotus",
   "metadata": {},
   "outputs": [
    {
     "name": "stdout",
     "output_type": "stream",
     "text": [
      "0 cubiertos\n",
      "number of time intervals 110\n",
      "number of fuzzy time intervals 110\n",
      "1 fridge\n",
      "number of time intervals 116\n",
      "number of fuzzy time intervals 116\n",
      "2 microwave\n",
      "number of time intervals 25\n",
      "number of fuzzy time intervals 25\n",
      "3 ollas\n",
      "number of time intervals 20\n",
      "number of fuzzy time intervals 20\n"
     ]
    }
   ],
   "source": [
    "for i,sensor in enumerate(sensors):\n",
    "    print(i,sensor)\n",
    "    print(\"number of time intervals\", len(intervals(S[i])))\n",
    "    #S[i]=FTW_sensor(S[i],ftw_f1)\n",
    "    print(\"number of fuzzy time intervals\", len(intervals(S[i])))\n",
    "     "
   ]
  },
  {
   "cell_type": "code",
   "execution_count": 9,
   "id": "varying-homework",
   "metadata": {},
   "outputs": [],
   "source": [
    "f = open(target_folder+\"S.matrix.tsv\", \"w\")\n",
    "f.write(\"TIME\")\n",
    "for i,sensor in enumerate(sensors):\n",
    "    f.write(\"\\t\"+sensor)\n",
    "f.write(\"\\n\")\n",
    "for t in range(0,nT):\n",
    "    tt=absT(t)\n",
    "    f.write(datetime.fromtimestamp(tt).strftime(\"%Y-%m-%d %H:%M:%S\"))\n",
    "    for i,sensor in enumerate(sensors):\n",
    "        f.write(\"\\t\"+str(S[i][t]))\n",
    "    f.write(\"\\n\")\n",
    "f.close()"
   ]
  },
  {
   "cell_type": "code",
   "execution_count": 10,
   "id": "other-working",
   "metadata": {},
   "outputs": [
    {
     "name": "stdout",
     "output_type": "stream",
     "text": [
      "(17280, 5)\n",
      "(17280, 5)\n",
      "[['None' 'None' 'None' 'None' 'None']\n",
      " ['None' 'None' 'None' 'None' 'None']\n",
      " ['None' 'None' 'None' 'None' 'None']\n",
      " ...\n",
      " ['2028.6040028752798' '6596.97275770177' '2408.723468772463'\n",
      "  '6786.831092901128' '1']\n",
      " ['1870.0145094890609' '6660.8905185847725' '2615.857214599785'\n",
      "  '6716.993189425442' '1']\n",
      " ['1680.1328691776916' '6660.096055971507' '2598.991731657514'\n",
      "  '6828.048027985753' '1']]\n"
     ]
    }
   ],
   "source": [
    "user_location={}\n",
    "for tag in tags:\n",
    "    user_location[tag]=[]\n",
    "    series=read_csv(target_folder+tag+\".tsv\", sep=\"\\t\",parse_dates=True,header=None)\n",
    "    user_location[tag]=  np.array(series.values[:,[1,2,3,4,5]])  \n",
    "    print(user_location[tag].shape)\n",
    "    \n",
    "print(user_location[\"1\"])"
   ]
  },
  {
   "cell_type": "code",
   "execution_count": null,
   "id": "stunning-strip",
   "metadata": {},
   "outputs": [],
   "source": []
  },
  {
   "cell_type": "code",
   "execution_count": 11,
   "id": "sought-cycling",
   "metadata": {},
   "outputs": [
    {
     "name": "stdout",
     "output_type": "stream",
     "text": [
      "[['cubiertos' 5200 6000 6200 6940 1.0]\n",
      " ['fridge' 2600 6700 3960 6000 1.0]\n",
      " ['fridge' 1965 6820 4000 5500 0.5]\n",
      " ['microwave' 5730 6600 7120 5830 1.0]\n",
      " ['microwave' 5780 7060 6920 5650 0.5]\n",
      " ['ollas' 6180 8180 6840 7300 1.0]\n",
      " ['ollas' 5770 8370 7220 6620 0.5]\n",
      " ['rule-cooking' 4840 8710 6300 7350 0.75]\n",
      " ['rule-cooking' 5200 8540 6500 7560 1.0]\n",
      " ['rule-lunch' 2100 8000 5000 6580 0.75]\n",
      " ['rule-lunch' 2570 7690 4780 6800 1.0]]\n",
      "{'cubiertos': [[5200.0, 6000.0, 6200.0, 6940.0, 1.0]], 'fridge': [[2600.0, 6700.0, 3960.0, 6000.0, 1.0], [1965.0, 6820.0, 4000.0, 5500.0, 0.5]], 'microwave': [[5730.0, 6600.0, 7120.0, 5830.0, 1.0], [5780.0, 7060.0, 6920.0, 5650.0, 0.5]], 'ollas': [[6180.0, 8180.0, 6840.0, 7300.0, 1.0], [5770.0, 8370.0, 7220.0, 6620.0, 0.5]], 'rule-cooking': [[4840.0, 8710.0, 6300.0, 7350.0, 0.75], [5200.0, 8540.0, 6500.0, 7560.0, 1.0]], 'rule-lunch': [[2100.0, 8000.0, 5000.0, 6580.0, 0.75], [2570.0, 7690.0, 4780.0, 6800.0, 1.0]]}\n"
     ]
    }
   ],
   "source": [
    "series=read_csv(\"./sensors-location.tsv\", sep=\"\\t\",header=None)\n",
    "print(series.values)\n",
    "sensor_location={}\n",
    "for d in series.values:\n",
    "    for s in d[0].split(\",\"):\n",
    "        sensor_location[s]=[]\n",
    "for d in series.values:\n",
    "    for s in d[0].split(\",\"):\n",
    "        sensor_location[s].append([float(d[1]),float(d[2]),float(d[3]),float(d[4]),float(d[5])])\n",
    "    \n",
    "print(sensor_location)"
   ]
  },
  {
   "cell_type": "code",
   "execution_count": 12,
   "id": "smart-electron",
   "metadata": {},
   "outputs": [
    {
     "name": "stdout",
     "output_type": "stream",
     "text": [
      " iou: [22, 25, 22, 26]\n",
      " intersection_area/bb1_area: 0 0\n"
     ]
    },
    {
     "data": {
      "text/plain": [
       "1"
      ]
     },
     "execution_count": 12,
     "metadata": {},
     "output_type": "execute_result"
    }
   ],
   "source": [
    " def get_iou(bb1, bb2):\n",
    "    assert bb1[0] <= bb1[2]\n",
    "    assert bb1[1] <= bb1[3]\n",
    "    assert bb2[0] <= bb2[2]\n",
    "    assert bb2[1] <= bb2[3]\n",
    "\n",
    "    # determine the coordinates of the intersection rectangle\n",
    "    x_left = max(bb1[0], bb2[0])\n",
    "    y_top = max(bb1[1], bb2[1])\n",
    "    x_right = min(bb1[2], bb2[2])\n",
    "    y_bottom = min(bb1[3], bb2[3])\n",
    "\n",
    "    print(\" iou:\",[x_left,y_top,x_right,y_bottom])\n",
    "    if x_right < x_left or y_bottom < y_top:\n",
    "        return 0.0\n",
    "\n",
    "    # The intersection of two axis-aligned bounding boxes is always an\n",
    "    # axis-aligned bounding box\n",
    "    intersection_area = (x_right - x_left) * (y_bottom - y_top)\n",
    "\n",
    "    \n",
    "    # compute the area of both AABBs\n",
    "    bb1_area = (bb1[2] - bb1[0]) * (bb1[3] - bb1[1])\n",
    "    bb2_area = (bb2[2] - bb2[0]) * (bb2[3] - bb2[1])\n",
    "\n",
    "    # compute the intersection over union by taking the intersection\n",
    "    # area and dividing it by the sum of prediction + ground-truth\n",
    "    # areas - the interesection area\n",
    "    #iou = intersection_area / float(bb1_area + bb2_area - intersection_area)\n",
    "    print(\" intersection_area/bb1_area:\",intersection_area,bb1_area)\n",
    "    if intersection_area==0 or bb1_area==0:\n",
    "        return 1\n",
    "    if(intersection_area==bb1_area):\n",
    "        return 1\n",
    "    iou = intersection_area / (float(bb2_area))\n",
    "    assert iou >= 0.0\n",
    "    assert iou <= 1.0\n",
    "    return iou\n",
    "get_iou([22, 25, 22, 26],[10, 20, 30, 50] )"
   ]
  },
  {
   "cell_type": "code",
   "execution_count": 13,
   "id": "plastic-textbook",
   "metadata": {},
   "outputs": [],
   "source": [
    "def getIoSUW(t,sensor, tag):\n",
    "    iou=0\n",
    "    if( 'None' in user_location[tag][t]):\n",
    "        return 0\n",
    "\n",
    "    x1,y1,x2,y2,w=user_location[tag][t][0],user_location[tag][t][1],user_location[tag][t][2],user_location[tag][t][3],user_location[tag][t][4] \n",
    "    #x1,y1=repaintXY(x1,y1)\n",
    "    #x2,y2=repaintXY(x2,y2) \n",
    "    w=1\n",
    "    for sl in sensor_location[sensor]:\n",
    "        x1o,y1o,x2o,y2o,wo=sl[0],sl[1],sl[2],sl[3],sl[4]\n",
    "        #x1o,y1o=repaintXY(x1o,y1o)\n",
    "        #x2o,y2o=repaintXY(x2o,y2o)\n",
    "        \n",
    "        if(x1o>x2o):\n",
    "            aux=x2o\n",
    "            x2o=x1o\n",
    "            x1o=aux\n",
    "        if(y1o>y2o):\n",
    "            aux=y2o\n",
    "            y2o=y1o\n",
    "            y1o=aux\n",
    "        if(x1>x2):\n",
    "            aux=x2\n",
    "            x2=x1\n",
    "            x1=aux\n",
    "        if(y1>y2):\n",
    "            aux=y2\n",
    "            y2=y1\n",
    "            y1=aux\n",
    "\n",
    "        print(\"IoU#\",[x1,y1,x2,y2],[x1o,y1o,x2o,y2o],)\n",
    "            \n",
    "        viou=get_iou([x1,y1,x2,y2],[x1o,y1o,x2o,y2o])\n",
    "        #print(\"\\t \\t\", datetime.fromtimestamp(absT(t)).strftime(\"%Y-%m-%d %H:%M:%S\"), \" IoU:\",tag,viou)\n",
    "        print(\"\\t \\t get_iou_t_s_u\",t, tag, viou)\n",
    "        #iou=max(iou,viou*w*wo)\n",
    "        iou=iou+viou*w*wo\n",
    "            \n",
    "    #print(\"iou\",iou)\n",
    "    return iou"
   ]
  },
  {
   "cell_type": "code",
   "execution_count": 14,
   "id": "dirty-customer",
   "metadata": {},
   "outputs": [
    {
     "data": {
      "text/plain": [
       "1"
      ]
     },
     "execution_count": 14,
     "metadata": {},
     "output_type": "execute_result"
    }
   ],
   "source": [
    "def Q(x,l,u):\n",
    "    if(x<=l):\n",
    "        return 0\n",
    "    if(x>=u):\n",
    "        return 1\n",
    "    return (x-l)/(u-l)\n",
    "Q(0.8,0.25,0.75)"
   ]
  },
  {
   "cell_type": "code",
   "execution_count": 15,
   "id": "clear-voltage",
   "metadata": {},
   "outputs": [
    {
     "name": "stdout",
     "output_type": "stream",
     "text": [
      "{'cubiertos': [[5200.0, 6000.0, 6200.0, 6940.0, 1.0]], 'fridge': [[2600.0, 6700.0, 3960.0, 6000.0, 1.0], [1965.0, 6820.0, 4000.0, 5500.0, 0.5]], 'microwave': [[5730.0, 6600.0, 7120.0, 5830.0, 1.0], [5780.0, 7060.0, 6920.0, 5650.0, 0.5]], 'ollas': [[6180.0, 8180.0, 6840.0, 7300.0, 1.0], [5770.0, 8370.0, 7220.0, 6620.0, 0.5]], 'rule-cooking': [[4840.0, 8710.0, 6300.0, 7350.0, 0.75], [5200.0, 8540.0, 6500.0, 7560.0, 1.0]], 'rule-lunch': [[2100.0, 8000.0, 5000.0, 6580.0, 0.75], [2570.0, 7690.0, 4780.0, 6800.0, 1.0]]}\n",
      "{'cubiertos': [[419, 430, 509, 328, 1.0]], 'fridge': [[186, 354, 308, 430, 1.0], [129, 341, 312, 484, 0.5]], 'microwave': [[467, 365, 591, 448, 1.0], [471, 315, 573, 467, 0.5]], 'ollas': [[507, 195, 566, 290, 1.0], [470, 174, 600, 363, 0.5]], 'rule-cooking': [[4840.0, 8710.0, 6300.0, 7350.0, 0.75], [5200.0, 8540.0, 6500.0, 7560.0, 1.0]], 'rule-lunch': [[2100.0, 8000.0, 5000.0, 6580.0, 0.75], [2570.0, 7690.0, 4780.0, 6800.0, 1.0]]}\n"
     ]
    }
   ],
   "source": [
    "print(sensor_location)\n",
    "for sensor in sensors:\n",
    "    for sl in sensor_location[sensor]:\n",
    "        x1o,y1o,x2o,y2o,wo=sl[0],sl[1],sl[2],sl[3],sl[4]\n",
    "        sl[0],sl[1]=repaintXY(sl[0],sl[1])\n",
    "        sl[2],sl[3]=repaintXY(sl[2],sl[3])\n",
    "        \n",
    "print(sensor_location)\n"
   ]
  },
  {
   "cell_type": "code",
   "execution_count": 17,
   "id": "eastern-credits",
   "metadata": {},
   "outputs": [
    {
     "name": "stdout",
     "output_type": "stream",
     "text": [
      "{'1': array([['None', 'None', 'None', 'None', 'None'],\n",
      "       ['None', 'None', 'None', 'None', 'None'],\n",
      "       ['None', 'None', 'None', 'None', 'None'],\n",
      "       ...,\n",
      "       ['2028.6040028752798', '6596.97275770177', '2408.723468772463',\n",
      "        '6786.831092901128', '1'],\n",
      "       ['1870.0145094890609', '6660.8905185847725', '2615.857214599785',\n",
      "        '6716.993189425442', '1'],\n",
      "       ['1680.1328691776916', '6660.096055971507', '2598.991731657514',\n",
      "        '6828.048027985753', '1']], dtype=object), '2': array([['None', 'None', 'None', 'None', 'None'],\n",
      "       ['None', 'None', 'None', 'None', 'None'],\n",
      "       ['None', 'None', 'None', 'None', 'None'],\n",
      "       ...,\n",
      "       ['1444.6395288952108', '6217.799021337639', '3606.438794347893',\n",
      "        '6814.137365608867', '1'],\n",
      "       ['1775.8313272048736', '6279.352526795736', '2249.853915900609',\n",
      "        '6744.5617149271', '1'],\n",
      "       ['2003.9166864544522', '6490.880701847281', '2534.335866169873',\n",
      "        '6879.045614778247', '1']], dtype=object)}\n"
     ]
    },
    {
     "ename": "TypeError",
     "evalue": "can't multiply sequence by non-int of type 'float'",
     "output_type": "error",
     "traceback": [
      "\u001b[1;31m---------------------------------------------------------------------------\u001b[0m",
      "\u001b[1;31mTypeError\u001b[0m                                 Traceback (most recent call last)",
      "\u001b[1;32m~\\AppData\\Local\\Temp\\ipykernel_25060\\3941230083.py\u001b[0m in \u001b[0;36m<module>\u001b[1;34m\u001b[0m\n\u001b[0;32m      6\u001b[0m             \u001b[1;32mcontinue\u001b[0m\u001b[1;33m\u001b[0m\u001b[1;33m\u001b[0m\u001b[0m\n\u001b[0;32m      7\u001b[0m         \u001b[0muser_location\u001b[0m\u001b[1;33m[\u001b[0m\u001b[0mtag\u001b[0m\u001b[1;33m]\u001b[0m\u001b[1;33m[\u001b[0m\u001b[0mt\u001b[0m\u001b[1;33m]\u001b[0m\u001b[1;33m=\u001b[0m\u001b[0muser_location\u001b[0m\u001b[1;33m[\u001b[0m\u001b[0mtag\u001b[0m\u001b[1;33m]\u001b[0m\u001b[1;33m[\u001b[0m\u001b[0mt\u001b[0m\u001b[1;33m]\u001b[0m\u001b[1;33m\u001b[0m\u001b[1;33m\u001b[0m\u001b[0m\n\u001b[1;32m----> 8\u001b[1;33m         \u001b[0muser_location\u001b[0m\u001b[1;33m[\u001b[0m\u001b[0mtag\u001b[0m\u001b[1;33m]\u001b[0m\u001b[1;33m[\u001b[0m\u001b[0mt\u001b[0m\u001b[1;33m]\u001b[0m\u001b[1;33m[\u001b[0m\u001b[1;36m0\u001b[0m\u001b[1;33m]\u001b[0m\u001b[1;33m,\u001b[0m\u001b[0muser_location\u001b[0m\u001b[1;33m[\u001b[0m\u001b[0mtag\u001b[0m\u001b[1;33m]\u001b[0m\u001b[1;33m[\u001b[0m\u001b[0mt\u001b[0m\u001b[1;33m]\u001b[0m\u001b[1;33m[\u001b[0m\u001b[1;36m1\u001b[0m\u001b[1;33m]\u001b[0m\u001b[1;33m=\u001b[0m\u001b[0mrepaintXY\u001b[0m\u001b[1;33m(\u001b[0m\u001b[0muser_location\u001b[0m\u001b[1;33m[\u001b[0m\u001b[0mtag\u001b[0m\u001b[1;33m]\u001b[0m\u001b[1;33m[\u001b[0m\u001b[0mt\u001b[0m\u001b[1;33m]\u001b[0m\u001b[1;33m[\u001b[0m\u001b[1;36m0\u001b[0m\u001b[1;33m]\u001b[0m\u001b[1;33m,\u001b[0m\u001b[0muser_location\u001b[0m\u001b[1;33m[\u001b[0m\u001b[0mtag\u001b[0m\u001b[1;33m]\u001b[0m\u001b[1;33m[\u001b[0m\u001b[0mt\u001b[0m\u001b[1;33m]\u001b[0m\u001b[1;33m[\u001b[0m\u001b[1;36m1\u001b[0m\u001b[1;33m]\u001b[0m\u001b[1;33m)\u001b[0m\u001b[1;33m\u001b[0m\u001b[1;33m\u001b[0m\u001b[0m\n\u001b[0m\u001b[0;32m      9\u001b[0m         \u001b[0muser_location\u001b[0m\u001b[1;33m[\u001b[0m\u001b[0mtag\u001b[0m\u001b[1;33m]\u001b[0m\u001b[1;33m[\u001b[0m\u001b[0mt\u001b[0m\u001b[1;33m]\u001b[0m\u001b[1;33m[\u001b[0m\u001b[1;36m2\u001b[0m\u001b[1;33m]\u001b[0m\u001b[1;33m,\u001b[0m\u001b[0muser_location\u001b[0m\u001b[1;33m[\u001b[0m\u001b[0mtag\u001b[0m\u001b[1;33m]\u001b[0m\u001b[1;33m[\u001b[0m\u001b[0mt\u001b[0m\u001b[1;33m]\u001b[0m\u001b[1;33m[\u001b[0m\u001b[1;36m3\u001b[0m\u001b[1;33m]\u001b[0m\u001b[1;33m=\u001b[0m\u001b[0mrepaintXY\u001b[0m\u001b[1;33m(\u001b[0m\u001b[0muser_location\u001b[0m\u001b[1;33m[\u001b[0m\u001b[0mtag\u001b[0m\u001b[1;33m]\u001b[0m\u001b[1;33m[\u001b[0m\u001b[0mt\u001b[0m\u001b[1;33m]\u001b[0m\u001b[1;33m[\u001b[0m\u001b[1;36m2\u001b[0m\u001b[1;33m]\u001b[0m\u001b[1;33m,\u001b[0m\u001b[0muser_location\u001b[0m\u001b[1;33m[\u001b[0m\u001b[0mtag\u001b[0m\u001b[1;33m]\u001b[0m\u001b[1;33m[\u001b[0m\u001b[0mt\u001b[0m\u001b[1;33m]\u001b[0m\u001b[1;33m[\u001b[0m\u001b[1;36m3\u001b[0m\u001b[1;33m]\u001b[0m\u001b[1;33m)\u001b[0m\u001b[1;33m\u001b[0m\u001b[1;33m\u001b[0m\u001b[0m\n\u001b[0;32m     10\u001b[0m \u001b[0mprint\u001b[0m\u001b[1;33m(\u001b[0m\u001b[0muser_location\u001b[0m\u001b[1;33m)\u001b[0m\u001b[1;33m\u001b[0m\u001b[1;33m\u001b[0m\u001b[0m\n",
      "\u001b[1;32m~\\AppData\\Local\\Temp\\ipykernel_25060\\319190232.py\u001b[0m in \u001b[0;36mrepaintXY\u001b[1;34m(x, y)\u001b[0m\n\u001b[0;32m      1\u001b[0m \u001b[1;32mdef\u001b[0m \u001b[0mrepaintXY\u001b[0m\u001b[1;33m(\u001b[0m\u001b[0mx\u001b[0m\u001b[1;33m,\u001b[0m\u001b[0my\u001b[0m\u001b[1;33m)\u001b[0m\u001b[1;33m:\u001b[0m\u001b[1;33m\u001b[0m\u001b[1;33m\u001b[0m\u001b[0m\n\u001b[1;32m----> 2\u001b[1;33m     \u001b[1;32mreturn\u001b[0m \u001b[0mint\u001b[0m\u001b[1;33m(\u001b[0m\u001b[0mx\u001b[0m\u001b[1;33m*\u001b[0m\u001b[1;36m0.08965\u001b[0m\u001b[1;33m-\u001b[0m\u001b[1;36m196.41\u001b[0m\u001b[1;33m+\u001b[0m\u001b[1;36m150\u001b[0m\u001b[1;33m)\u001b[0m\u001b[1;33m,\u001b[0m \u001b[0mint\u001b[0m\u001b[1;33m(\u001b[0m\u001b[1;33m-\u001b[0m\u001b[0my\u001b[0m\u001b[1;33m*\u001b[0m\u001b[1;36m0.1078\u001b[0m\u001b[1;33m+\u001b[0m\u001b[1;36m1077\u001b[0m\u001b[1;33m)\u001b[0m\u001b[1;33m\u001b[0m\u001b[1;33m\u001b[0m\u001b[0m\n\u001b[0m\u001b[0;32m      3\u001b[0m \u001b[1;33m\u001b[0m\u001b[0m\n\u001b[0;32m      4\u001b[0m \u001b[1;32mdef\u001b[0m \u001b[0mrepaintXXYY\u001b[0m\u001b[1;33m(\u001b[0m\u001b[0mx\u001b[0m\u001b[1;33m,\u001b[0m\u001b[0my\u001b[0m\u001b[1;33m)\u001b[0m\u001b[1;33m:\u001b[0m\u001b[1;33m\u001b[0m\u001b[1;33m\u001b[0m\u001b[0m\n\u001b[0;32m      5\u001b[0m     \u001b[1;32mreturn\u001b[0m \u001b[0mint\u001b[0m\u001b[1;33m(\u001b[0m\u001b[1;33m(\u001b[0m\u001b[0mx\u001b[0m\u001b[1;33m+\u001b[0m\u001b[1;36m196.41\u001b[0m\u001b[1;33m-\u001b[0m\u001b[1;36m150\u001b[0m\u001b[1;33m)\u001b[0m\u001b[1;33m/\u001b[0m\u001b[1;36m0.08965\u001b[0m\u001b[1;33m)\u001b[0m\u001b[1;33m,\u001b[0m \u001b[0mint\u001b[0m\u001b[1;33m(\u001b[0m\u001b[1;33m(\u001b[0m\u001b[0my\u001b[0m\u001b[1;33m-\u001b[0m\u001b[1;36m1077\u001b[0m\u001b[1;33m)\u001b[0m\u001b[1;33m/\u001b[0m\u001b[1;33m(\u001b[0m\u001b[1;33m-\u001b[0m\u001b[1;36m0.1078\u001b[0m\u001b[1;33m)\u001b[0m\u001b[1;33m)\u001b[0m\u001b[1;33m\u001b[0m\u001b[1;33m\u001b[0m\u001b[0m\n",
      "\u001b[1;31mTypeError\u001b[0m: can't multiply sequence by non-int of type 'float'"
     ]
    }
   ],
   "source": [
    "print(user_location)\n",
    "for tag in tags:\n",
    "    for ti in range(t0,tN,time_step):\n",
    "        t=relT(ti)\n",
    "        if( 'None' in user_location[tag][t]):\n",
    "            continue\n",
    "        user_location[tag][t]=user_location[tag][t]\n",
    "        user_location[tag][t][0],user_location[tag][t][1]=repaintXY(user_location[tag][t][0],user_location[tag][t][1])\n",
    "        user_location[tag][t][2],user_location[tag][t][3]=repaintXY(user_location[tag][t][2],user_location[tag][t][3])\n",
    "print(user_location)                "
   ]
  },
  {
   "cell_type": "code",
   "execution_count": null,
   "id": "attended-density",
   "metadata": {},
   "outputs": [],
   "source": [
    "I=np.zeros((len(tags),len(sensors), nT))\n",
    "for i,sensor in enumerate(sensors):\n",
    "    print(\"Evaluating sensor activation of \",sensor)\n",
    "    for ii in intervals(S[i]):\n",
    "        print(\"\\t Interval\",ii, datetime.fromtimestamp(absT(ii[0])).strftime(\"%Y-%m-%d %H:%M:%S\"), datetime.fromtimestamp(absT(ii[1])).strftime(\"%Y-%m-%d %H:%M:%S\"))\n",
    "        for u,tag in enumerate(tags):\n",
    "            wUS=np.zeros(ii[1]-ii[0]+1)\n",
    "            for t in range(ii[0],ii[1]+1):\n",
    "                j=t-ii[0]\n",
    "                #Esto es solo para sensores retrasados (papelera)\n",
    "                #wUS[j]=getIoSUW(t-1,sensor,tag)*0.5+getIoSUW(t,sensor,tag)+getIoSUW(t+1,sensor,tag)*0.5\n",
    "                if(last_next_activation[i]):\n",
    "                    wUS[j]=getIoSUW(t-1,sensor,tag)*0.5+getIoSUW(t,sensor,tag)+getIoSUW(t+1,sensor,tag)*0.5\n",
    "                else:\n",
    "                    wUS[j]=getIoSUW(t,sensor,tag)\n",
    "                if(not interval_activation[i]):\n",
    "                    I[u][i][t]=wUS[j]\n",
    "            wSA=S[i][ii[0]:ii[1]+1]\n",
    "            wUI=np.dot(wSA,wUS)/float(np.sum(wSA))\n",
    "            #print(\"\\t \\t  User \",tag,\" wUI:\",wUI, \"Q(wUI):\",Q(wUI,0.00001,0.01))\n",
    "            #I[u][i][range(ii[0],ii[1]+1)]=Q(wUI,0.00001,0.01)\n",
    "            if(interval_activation[i]):\n",
    "                I[u][i][range(ii[0],ii[1]+1)]=wUI\n",
    "\n",
    "    \n",
    "            "
   ]
  },
  {
   "cell_type": "code",
   "execution_count": null,
   "id": "confident-attendance",
   "metadata": {},
   "outputs": [],
   "source": [
    "for u,tag in enumerate(tags):\n",
    "    f = open(target_folder+tag+\".matrix.tsv\", \"w\")\n",
    "    f.write(\"TIME\")\n",
    "    for i,sensor in enumerate(sensors):\n",
    "        f.write(\"\\t\"+sensor)\n",
    "    f.write(\"\\n\")\n",
    "    for t in range(0,nT):\n",
    "        tt=absT(t)\n",
    "        f.write(datetime.fromtimestamp(tt).strftime(\"%Y-%m-%d %H:%M:%S\"))\n",
    "        for i,sensor in enumerate(sensors):\n",
    "            f.write(\"\\t\"+str(I[u][i][t]))\n",
    "        f.write(\"\\n\")\n",
    "    f.close()"
   ]
  },
  {
   "cell_type": "code",
   "execution_count": null,
   "id": "peaceful-wheat",
   "metadata": {},
   "outputs": [],
   "source": [
    "tt_date = ini_date\n",
    "tt = (int)(datetime.strptime(tt_date, '%d/%m/%y %H:%M:%S').timestamp())\n",
    "print (tt_date,\"TT date is\", tt_date, \"day:\",day_time(tt))\n",
    "\n",
    "for i,sensor in enumerate(sensors):\n",
    "    f = open(target_folder+sensor+\".matrix.tsv\", \"w\")\n",
    "    f.write(\"TIME\")\n",
    "    for u,tag in enumerate(tags):\n",
    "        f.write(\"\\t\"+tag)\n",
    "    f.write(\"\\n\")\n",
    "    for t in range(0,nT):\n",
    "        tt0=absT(t)\n",
    "        if(tt0<tt):\n",
    "            continue\n",
    "        f.write(datetime.fromtimestamp(tt0).strftime(\"%Y-%m-%d %H:%M:%S\"))\n",
    "        for u,tag in enumerate(tags):\n",
    "            f.write(\"\\t\"+str(I[u][i][t]).replace('.',','))\n",
    "        f.write(\"\\n\")\n",
    "    f.close()"
   ]
  },
  {
   "cell_type": "code",
   "execution_count": null,
   "id": "minute-newton",
   "metadata": {},
   "outputs": [],
   "source": [
    "def prinUserSensorMatrix(I,S):\n",
    "    df = pd.DataFrame()\n",
    "    ts=[]\n",
    "    for t in range(t0,tN,time_step):\n",
    "        ts.append(datetime.fromtimestamp( t))\n",
    "\n",
    "    df['Time']=ts\n",
    "    ls=[]\n",
    "    for ix,sensor in enumerate(sensors):\n",
    "        df[sensor]=S[ix]\n",
    "        ls.append(sensor)\n",
    "        for ux,tag in enumerate(tags):\n",
    "            df[sensor+\"-user\"+tag]=I[ux][ix]\n",
    "            ls.append(sensor+\"-user\"+tag)\n",
    "    df.plot(x=\"Time\",y=ls,subplots=True, legend=True, ylim=(0,1), figsize=(15,15))    \n",
    "    \n",
    "prinUserSensorMatrix(I,S)"
   ]
  },
  {
   "cell_type": "code",
   "execution_count": null,
   "id": "intense-analyst",
   "metadata": {},
   "outputs": [],
   "source": []
  }
 ],
 "metadata": {
  "kernelspec": {
   "display_name": "Python 3 (ipykernel)",
   "language": "python",
   "name": "python3"
  },
  "language_info": {
   "codemirror_mode": {
    "name": "ipython",
    "version": 3
   },
   "file_extension": ".py",
   "mimetype": "text/x-python",
   "name": "python",
   "nbconvert_exporter": "python",
   "pygments_lexer": "ipython3",
   "version": "3.9.13"
  }
 },
 "nbformat": 4,
 "nbformat_minor": 5
}
