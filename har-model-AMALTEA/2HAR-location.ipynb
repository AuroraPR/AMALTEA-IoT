{
 "cells": [
  {
   "cell_type": "code",
   "execution_count": 1,
   "id": "600ecad0",
   "metadata": {},
   "outputs": [],
   "source": [
    "source_folder=\"../data-amaltea/\"\n",
    "\n",
    "#ini_date = '04/01/23 12:00:00'\n",
    "#end_date = '06/01/23 13:00:00'\n",
    "#target_folder=\"./time-data/evaluation/\"\n",
    "\n",
    "#[9:50, 11/10/2023] Aurora: setup: 20/12/2022 a las 15:00 a. m. hasta el 23/12/2022 a las 15:00 a. m.\n",
    "#[9:50, 11/10/2023] Aurora: config: 04/01/2023 a las 12:00 a. m. hasta el 06/01/2023 a las 12:00 a. m.\n",
    "\n",
    "ini_date = '20/12/22 15:00:00'\n",
    "end_date = '23/12/22 15:00:00'\n",
    "target_folder=\"./time-data/setup/\"\n",
    "\n",
    "\n",
    "time_step=15\n",
    "\n",
    "smooth=True\n",
    "\n",
    "def filter0(x,y):\n",
    "    return x,y\n",
    "\n",
    "def agg0(xs,ys):\n",
    "    if(len(xs)==0):\n",
    "        return None, None, None, N\n",
    "    return np.min(xs), np.min(ys), np.max(xs), np.max(ys), np.mean(xs), np.mean(ys)\n",
    "\n",
    "\n",
    "tags=[\"1\", \"2\"]\n",
    "\n",
    "filter_function={}\n",
    "filter_function[\"1\"]=filter0\n",
    "filter_function[\"2\"]=filter0\n",
    "filter_function[\"3\"]=filter0\n",
    "filter_function[\"4\"]=filter0\n",
    "filter_function[\"5\"]=filter0\n",
    "filter_function[\"6\"]=filter0\n",
    "\n",
    "aggretation_function={}\n",
    "aggretation_function[\"1\"]=agg0\n",
    "aggretation_function[\"2\"]=agg0\n",
    "aggretation_function[\"3\"]=agg0\n",
    "aggretation_function[\"4\"]=agg0\n",
    "aggretation_function[\"5\"]=agg0\n",
    "aggretation_function[\"6\"]=agg0\n",
    "\n"
   ]
  },
  {
   "cell_type": "code",
   "execution_count": 2,
   "id": "7745b818",
   "metadata": {},
   "outputs": [
    {
     "name": "stdout",
     "output_type": "stream",
     "text": [
      "20/12/22 15:00:00 Init date is 1671544800 day: 19346\n",
      "23/12/22 15:00:00 End date is 1671804000 day: 19349\n"
     ]
    }
   ],
   "source": [
    "import numpy as np\n",
    "from pandas import read_csv    \n",
    "\n",
    "import time\n",
    "\n",
    "from datetime import datetime\n",
    "\n",
    "def day_time(ti):\n",
    "    return int((int)(ti/(60*60*24)))\n",
    "\n",
    "\n",
    "\n",
    "t0 = (int)(datetime.strptime(ini_date, '%d/%m/%y %H:%M:%S').timestamp())\n",
    "print (ini_date,\"Init date is\", t0, \"day:\",day_time(t0))\n",
    "\n",
    "tN = (int)(datetime.strptime(end_date, '%d/%m/%y %H:%M:%S').timestamp())\n",
    "print (end_date,\"End date is\", tN, \"day:\",day_time(tN))\n",
    "\n",
    "def relT(ti):\n",
    "    return (int)((ti-t0)/time_step)\n"
   ]
  },
  {
   "cell_type": "code",
   "execution_count": null,
   "id": "c778e390",
   "metadata": {},
   "outputs": [],
   "source": [
    " \n",
    "    "
   ]
  },
  {
   "cell_type": "code",
   "execution_count": 3,
   "id": "b8649d51",
   "metadata": {},
   "outputs": [
    {
     "name": "stdout",
     "output_type": "stream",
     "text": [
      "Loading day  19346\n",
      "Loading day  19347\n",
      "Loading day  19348\n",
      "Loading day  19349\n",
      "(141559, 3)\n",
      "[[1.00000000e+01 2.18900000e+03 2.44300000e+03]\n",
      " [1.00000000e+01 3.28350000e+03 3.66450000e+03]\n",
      " [1.00000000e+01 3.83075000e+03 4.27525000e+03]\n",
      " ...\n",
      " [1.80140000e+04 1.98835938e+03 7.57079688e+03]\n",
      " [1.80140000e+04 1.95867969e+03 7.78189844e+03]\n",
      " [1.80140000e+04 2.04733984e+03 7.12894922e+03]]\n",
      "Loading day  19346\n",
      "Loading day  19347\n",
      "Loading day  19348\n",
      "Loading day  19349\n",
      "(131186, 3)\n",
      "[[1.00000000e+01 2.54350000e+03 2.65100000e+03]\n",
      " [1.00000000e+01 3.55825000e+03 3.86400000e+03]\n",
      " [1.00000000e+01 4.06562500e+03 4.47050000e+03]\n",
      " ...\n",
      " [1.80130000e+04 1.40261378e+03 6.33976602e+03]\n",
      " [1.80140000e+04 1.35830689e+03 6.58888301e+03]\n",
      " [1.80140000e+04 1.30315344e+03 6.54294151e+03]]\n"
     ]
    }
   ],
   "source": [
    "dt={}\n",
    "ts={}\n",
    "txy={}\n",
    "for sensor in tags:\n",
    "    txy[sensor]=[]\n",
    "    for d in range(day_time(t0),day_time(tN)+1):\n",
    "        print(\"Loading day \",d)\n",
    "        try:\n",
    "            series=read_csv(source_folder+\"uwb/\"+str(d)+\".\"+sensor+\".tsv\", sep=\"\\t\",parse_dates=True,header=None)\n",
    "            lastT=10000\n",
    "            lastX=0\n",
    "            lastY=0\n",
    "            for vt in series.values[:,[0,2,3]]:\n",
    "                x,y=filter_function[sensor](vt[1],vt[2])\n",
    "                t=relT(vt[0])\n",
    "                \n",
    "                #print(\"vt:\",vt)\n",
    "                #print(\"incT:\",t-lastT)\n",
    "                \n",
    "                if smooth:\n",
    "                    if(t-lastT < 3):\n",
    "                        x=lastX*0.5+x*0.5\n",
    "                        y=lastY*0.5+y*0.5\n",
    "\n",
    "                    lastT=t\n",
    "                    lastX=x\n",
    "                    lastY=y\n",
    "                \n",
    "                txy[sensor].append([t,x,y])\n",
    "                \n",
    "        except Exception as e: \n",
    "            print(e)\n",
    "            print(\" Not data for sensor \",sensor, \" in day \",d, source_folder+\"uwb/\"+str(d)+\".\"+sensor+\".tsv\", \"vs:19216.1\")\n",
    "    txy[sensor]=np.array(txy[sensor])\n",
    "    print(txy[sensor].shape)\n",
    "    print(txy[sensor])\n",
    "    ts[sensor]=txy[sensor][:,0]\n",
    "    \n",
    "    f = open(target_folder+sensor+\".tsv\", \"w\")\n",
    "    vs=[]\n",
    "    for t in range(t0,tN,time_step):\n",
    "        ti=relT(t)\n",
    "        i=np.where( (ts[sensor]==ti))[0]\n",
    "        if(len(i)>0):\n",
    "            #print(i, datetime.fromtimestamp( t).strftime(\"%Y-%m-%d %H:%M:%S\"), \" xs:\",txy[sensor][:,1][i], \" ys:\",txy[sensor][:,2][i])\n",
    "            x1,y1,x2,y2,x3,y3=aggretation_function[sensor](txy[sensor][:,1][i],txy[sensor][:,2][i])\n",
    "\n",
    "            #print(ti,\" x1,y1,x2,y2,x3,y3:\",x1,y1,x2,y2,x3,y3)\n",
    "            vs.append([x1,y1,x2,y2,x3,y3])\n",
    "            f.write(str(t)+\"\\t\"+str(x1)+\"\\t\"+str(y1)+\"\\t\"+str(x2)+\"\\t\"+str(y2)+\"\\t\"+str(1)+\"\\t\"+datetime.fromtimestamp( t).strftime(\"%Y-%m-%d %H:%M:%S\")+\"\\n\")\n",
    "        else:\n",
    "            vs.append([None,None,None,None,None,None])\n",
    "            f.write(str(t)+\"\\t\"+str(None)+\"\\t\"+str(None)+\"\\t\"+str(None)+\"\\t\"+str(None)+\"\\t\"+str(None)+\"\\t\"+datetime.fromtimestamp( t).strftime(\"%Y-%m-%d %H:%M:%S\")+\"\\n\")\n",
    "    dt[sensor]=  np.array(vs)  \n",
    "    f.close()\n",
    "\n",
    "\n",
    "\n",
    "        "
   ]
  },
  {
   "cell_type": "code",
   "execution_count": 4,
   "id": "b036e466",
   "metadata": {},
   "outputs": [
    {
     "name": "stdout",
     "output_type": "stream",
     "text": [
      "max_x: 8806.329394283766\n",
      "min_x: 885.9124370617105\n",
      "max_y: 9295.596359351219\n",
      "min_y: 2383.5\n"
     ]
    }
   ],
   "source": [
    "print(\"max_x:\",max([i for i in dt[\"1\"][:,0] if i is not None] ))\n",
    "print(\"min_x:\",min([i for i in dt[\"1\"][:,0] if i is not None] ))\n",
    "print(\"max_y:\",max([i for i in dt[\"1\"][:,1] if i is not None] ))\n",
    "print(\"min_y:\",min([i for i in dt[\"1\"][:,1] if i is not None] ))\n"
   ]
  },
  {
   "cell_type": "code",
   "execution_count": null,
   "id": "7abd7565",
   "metadata": {},
   "outputs": [],
   "source": []
  },
  {
   "cell_type": "code",
   "execution_count": null,
   "id": "ce89a44d",
   "metadata": {},
   "outputs": [],
   "source": []
  }
 ],
 "metadata": {
  "kernelspec": {
   "display_name": "Python 3 (ipykernel)",
   "language": "python",
   "name": "python3"
  },
  "language_info": {
   "codemirror_mode": {
    "name": "ipython",
    "version": 3
   },
   "file_extension": ".py",
   "mimetype": "text/x-python",
   "name": "python",
   "nbconvert_exporter": "python",
   "pygments_lexer": "ipython3",
   "version": "3.9.13"
  }
 },
 "nbformat": 4,
 "nbformat_minor": 5
}
