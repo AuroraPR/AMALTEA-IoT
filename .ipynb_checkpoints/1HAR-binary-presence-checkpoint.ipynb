{
 "cells": [
  {
   "cell_type": "code",
   "execution_count": 1,
   "id": "c47e38e4",
   "metadata": {},
   "outputs": [],
   "source": [
    "source_folder=\"../data-amaltea/binary/\"\n",
    "\n",
    "#ini_date = '04/01/23 12:00:00'\n",
    "#end_date = '06/01/23 13:00:00'\n",
    "#target_folder=\"./time-data/evaluation/\"\n",
    "\n",
    "#setup: 20/12/2022 a las 15:00 a. m. hasta el 23/12/2022 a las 15:00 a. m.\n",
    "#config: 04/01/2023 a las 12:00 a. m. hasta el 06/01/2023 a las 12:00 a. m.\n",
    "\n",
    "ini_date = '20/12/22 15:00:00'\n",
    "end_date = '23/12/22 15:00:00'\n",
    "target_folder=\"./time-data/setup/\"\n",
    "time_step=15\n",
    "\n",
    "\n",
    "#binary_sensors=[\"cubiertos\"]\n",
    "\n",
    "binary_sensors=[\"presence_vitro2\"]\n"
   ]
  },
  {
   "cell_type": "code",
   "execution_count": 2,
   "id": "ef119575",
   "metadata": {},
   "outputs": [
    {
     "name": "stdout",
     "output_type": "stream",
     "text": [
      "20/12/22 15:00:00 Init date is 1671544800 day: 19346\n",
      "23/12/22 15:00:00 End date is 1671804000 day: 19349\n"
     ]
    }
   ],
   "source": [
    "import numpy as np\n",
    "from pandas import read_csv    \n",
    "\n",
    "import time\n",
    "\n",
    "from datetime import datetime\n",
    "\n",
    "def day_time(ti):\n",
    "    return int((int)(ti/(60*60*24)))\n",
    "\n",
    "\n",
    "\n",
    "t0 = (int)(datetime.strptime(ini_date, '%d/%m/%y %H:%M:%S').timestamp())\n",
    "print (ini_date,\"Init date is\", t0, \"day:\",day_time(t0))\n",
    "\n",
    "tN = (int)(datetime.strptime(end_date, '%d/%m/%y %H:%M:%S').timestamp())\n",
    "print (end_date,\"End date is\", tN, \"day:\",day_time(tN))\n",
    "\n",
    "def relT(ti):\n",
    "    return (int)((ti-t0)/time_step)\n"
   ]
  },
  {
   "cell_type": "code",
   "execution_count": 3,
   "id": "809b68e5",
   "metadata": {},
   "outputs": [],
   "source": [
    "import pandas as pd\n",
    "\n",
    "df = pd.DataFrame()\n",
    "\n",
    "ts=[]\n",
    "for t in range(t0,tN,time_step):\n",
    "    ts.append(datetime.fromtimestamp( t))\n",
    "\n",
    "df['Time']=ts    \n",
    "    "
   ]
  },
  {
   "cell_type": "code",
   "execution_count": 4,
   "id": "06495202",
   "metadata": {},
   "outputs": [
    {
     "name": "stdout",
     "output_type": "stream",
     "text": [
      "Loading day  19346\n",
      " Not data for sensor  presence_vitro2  in day  19346\n",
      "Loading day  19347\n",
      " Not data for sensor  presence_vitro2  in day  19347\n",
      "Loading day  19348\n",
      " Not data for sensor  presence_vitro2  in day  19348\n",
      "Loading day  19349\n",
      " Not data for sensor  presence_vitro2  in day  19349\n",
      "#Sensor: presence_vitro2  #: 0 []\n"
     ]
    },
    {
     "ename": "IndexError",
     "evalue": "too many indices for array: array is 1-dimensional, but 2 were indexed",
     "output_type": "error",
     "traceback": [
      "\u001b[1;31m---------------------------------------------------------------------------\u001b[0m",
      "\u001b[1;31mIndexError\u001b[0m                                Traceback (most recent call last)",
      "\u001b[1;32m~\\AppData\\Local\\Temp\\ipykernel_15428\\1232420879.py\u001b[0m in \u001b[0;36m<module>\u001b[1;34m\u001b[0m\n\u001b[0;32m     23\u001b[0m     \u001b[1;31m#print(dt.shape)\u001b[0m\u001b[1;33m\u001b[0m\u001b[1;33m\u001b[0m\u001b[0m\n\u001b[0;32m     24\u001b[0m     \u001b[1;31m#print(dt)\u001b[0m\u001b[1;33m\u001b[0m\u001b[1;33m\u001b[0m\u001b[0m\n\u001b[1;32m---> 25\u001b[1;33m     \u001b[0mts\u001b[0m\u001b[1;33m=\u001b[0m\u001b[0mdt\u001b[0m\u001b[1;33m[\u001b[0m\u001b[1;33m:\u001b[0m\u001b[1;33m,\u001b[0m\u001b[1;36m0\u001b[0m\u001b[1;33m]\u001b[0m\u001b[1;33m\u001b[0m\u001b[1;33m\u001b[0m\u001b[0m\n\u001b[0m\u001b[0;32m     26\u001b[0m     \u001b[0mf\u001b[0m \u001b[1;33m=\u001b[0m \u001b[0mopen\u001b[0m\u001b[1;33m(\u001b[0m\u001b[0mtarget_folder\u001b[0m\u001b[1;33m+\u001b[0m\u001b[0msensor\u001b[0m\u001b[1;33m+\u001b[0m\u001b[1;34m\".tsv\"\u001b[0m\u001b[1;33m,\u001b[0m \u001b[1;34m\"w\"\u001b[0m\u001b[1;33m)\u001b[0m\u001b[1;33m\u001b[0m\u001b[1;33m\u001b[0m\u001b[0m\n\u001b[0;32m     27\u001b[0m     \u001b[0mvs\u001b[0m\u001b[1;33m=\u001b[0m\u001b[1;33m[\u001b[0m\u001b[1;33m]\u001b[0m\u001b[1;33m\u001b[0m\u001b[1;33m\u001b[0m\u001b[0m\n",
      "\u001b[1;31mIndexError\u001b[0m: too many indices for array: array is 1-dimensional, but 2 were indexed"
     ]
    }
   ],
   "source": [
    "\n",
    "for sensor in binary_sensors:\n",
    "    lastV=-1\n",
    "    dt=[]\n",
    "    cS=0\n",
    "    for d in range(day_time(t0),day_time(tN)+1):\n",
    "        print(\"Loading day \",d)\n",
    "        try:\n",
    "            series=read_csv(source_folder+str(d)+\".\"+sensor+\".tsv\", sep=\"\\t\",parse_dates=True,header=None)\n",
    "            for vt in series.values[:,[0,2]]:\n",
    "                cS=cS+1\n",
    "                print('vt[1]',vt[1])\n",
    "                if('on'== vt[1]):\n",
    "                    dt.append([relT(vt[0]),1])\n",
    "                else:\n",
    "                    #print(\"ignoring \",vt[0])\n",
    "                    dt.append([relT(vt[0]),0])\n",
    "                lastV=vt[1]\n",
    "        except:\n",
    "            print(\" Not data for sensor \",sensor, \" in day \",d)\n",
    "    \n",
    "    print(\"#Sensor:\",sensor, \" #:\",cS,dt)\n",
    "    dt=np.array(dt)\n",
    "    #print(dt.shape)\n",
    "    #print(dt)\n",
    "    ts=dt[:,0]\n",
    "    f = open(target_folder+sensor+\".tsv\", \"w\")\n",
    "    vs=[]\n",
    "    cS=0\n",
    "    for t in range(t0,tN,time_step):\n",
    "        ti=relT(t)\n",
    "        print(\"ti:\",ti,datetime.fromtimestamp( t).strftime(\"%Y-%m-%d %H:%M:%S\"))\n",
    "        i=np.where( (ts<=ti))[0]\n",
    "        print(i)\n",
    "        if(len(i)!=0 and dt[i[-1]][1]==1):\n",
    "            cS=cS+1\n",
    "            vs.append(1)\n",
    "            f.write(str(ti)+\"\\t1\\t\"+datetime.fromtimestamp( t).strftime(\"%Y-%m-%d %H:%M:%S\")+\"\\n\")\n",
    "        else:\n",
    "            vs.append(0)\n",
    "            f.write(str(ti)+\"\\t0\\t\"+datetime.fromtimestamp( t).strftime(\"%Y-%m-%d %H:%M:%S\")+\"\\n\")\n",
    "    f.close()\n",
    "    df[sensor]=vs\n",
    "    print(\"#Sensor:\",sensor, \" #:\",cS)\n",
    "\n",
    "\n",
    "        "
   ]
  },
  {
   "cell_type": "code",
   "execution_count": null,
   "id": "dc9dfcd6",
   "metadata": {},
   "outputs": [],
   "source": [
    "df.plot(x=\"Time\",y=binary_sensors,subplots=True, legend=True, figsize=(6,15))\n"
   ]
  },
  {
   "cell_type": "code",
   "execution_count": null,
   "id": "c11f112b",
   "metadata": {},
   "outputs": [],
   "source": []
  }
 ],
 "metadata": {
  "kernelspec": {
   "display_name": "Python 3 (ipykernel)",
   "language": "python",
   "name": "python3"
  },
  "language_info": {
   "codemirror_mode": {
    "name": "ipython",
    "version": 3
   },
   "file_extension": ".py",
   "mimetype": "text/x-python",
   "name": "python",
   "nbconvert_exporter": "python",
   "pygments_lexer": "ipython3",
   "version": "3.9.13"
  }
 },
 "nbformat": 4,
 "nbformat_minor": 5
}
